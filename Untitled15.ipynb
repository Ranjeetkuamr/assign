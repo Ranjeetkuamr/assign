{
 "cells": [
  {
   "cell_type": "markdown",
   "id": "a7113b3d",
   "metadata": {},
   "source": [
    "# Q1. Explain Class and Object with respect to Object-Oriented Programming. Give a suitable example."
   ]
  },
  {
   "cell_type": "code",
   "execution_count": null,
   "id": "ca4bca6b",
   "metadata": {},
   "outputs": [],
   "source": [
    "'''In object-oriented programming (OOP), a class is a blueprint for creating objects.\n",
    "It defines the data and behavior that all objects of that type share. An object is an instance of a class. It has its own unique data and state, and it can interact with other objects.\n",
    "\n",
    " example of a class is a Car class. This class would define the data that all cars have in common, such as the make, model, and year.\n",
    "It would also define the behavior that all cars share, such as driving, braking, and turning.'''"
   ]
  },
  {
   "cell_type": "markdown",
   "id": "7003e6e0",
   "metadata": {},
   "source": [
    "# Q2. Name the four pillars of OOPs."
   ]
  },
  {
   "cell_type": "code",
   "execution_count": null,
   "id": "13c03980",
   "metadata": {},
   "outputs": [],
   "source": [
    "\n",
    "'''The four pillars of OOPs are abstraction, encapsulation, inheritance, and polymorphism.\n",
    "\n",
    "1. Abstraction is the process of hiding unnecessary details from the user. \n",
    "2. Encapsulation is the bundling of data and methods together into a single unit. \n",
    "3  Inheritance is the ability of one object to inherit the properties and methods of another object. \n",
    "4. Polymorphism is the ability of an object to respond to a message in different ways depending on its type. '''"
   ]
  },
  {
   "cell_type": "markdown",
   "id": "56d5dcfe",
   "metadata": {},
   "source": [
    "# Q3. Explain why the __init__() function is used. Give a suitable example."
   ]
  },
  {
   "cell_type": "code",
   "execution_count": null,
   "id": "3e32cef1",
   "metadata": {},
   "outputs": [],
   "source": [
    "'''\n",
    "The __init__() function is used to initialize the attributes of an object when it is created. It is called automatically by the Python interpreter when an object is created. \n",
    "The __init__() function is a special method in Python, and it cannot be called directly.'''"
   ]
  },
  {
   "cell_type": "code",
   "execution_count": null,
   "id": "822bedc7",
   "metadata": {},
   "outputs": [],
   "source": [
    "# example:-\n",
    "class Car:\n",
    "    def __init__(self, make, model, year):\n",
    "        self.make = make\n",
    "        self.model = model\n",
    "        self.year = year\n"
   ]
  },
  {
   "cell_type": "markdown",
   "id": "f4874cb4",
   "metadata": {},
   "source": [
    "# Q4. Why self is used in OOPs?"
   ]
  },
  {
   "cell_type": "code",
   "execution_count": null,
   "id": "4b2fbb7f",
   "metadata": {},
   "outputs": [],
   "source": [
    "'''\n",
    "The self keyword is used in OOPs to refer to the current instance of the class.\n",
    "It is used to access the attributes and methods of the class. '''"
   ]
  },
  {
   "cell_type": "markdown",
   "id": "365ad853",
   "metadata": {},
   "source": [
    "# Q5. What is inheritance? Give an example for each type of inheritance."
   ]
  },
  {
   "cell_type": "code",
   "execution_count": null,
   "id": "958179e7",
   "metadata": {},
   "outputs": [],
   "source": [
    "'''\n",
    "Inheritance is a mechanism in object-oriented programming (OOP) that allows one class to acquire the properties of another class.'''"
   ]
  },
  {
   "cell_type": "code",
   "execution_count": null,
   "id": "0d79a92e",
   "metadata": {},
   "outputs": [],
   "source": [
    "There are three main types of inheritance:-\n",
    "    \n",
    "1 Single inheritance:\n",
    "2 Hierarchical inheritance: \n",
    "3 Multiple inheritance:"
   ]
  }
 ],
 "metadata": {
  "kernelspec": {
   "display_name": "Python 3 (ipykernel)",
   "language": "python",
   "name": "python3"
  },
  "language_info": {
   "codemirror_mode": {
    "name": "ipython",
    "version": 3
   },
   "file_extension": ".py",
   "mimetype": "text/x-python",
   "name": "python",
   "nbconvert_exporter": "python",
   "pygments_lexer": "ipython3",
   "version": "3.9.13"
  }
 },
 "nbformat": 4,
 "nbformat_minor": 5
}
